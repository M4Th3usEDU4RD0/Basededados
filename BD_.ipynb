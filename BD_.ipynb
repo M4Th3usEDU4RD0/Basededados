{
  "nbformat": 4,
  "nbformat_minor": 0,
  "metadata": {
    "colab": {
      "provenance": [],
      "collapsed_sections": []
    },
    "kernelspec": {
      "name": "python3",
      "display_name": "Python 3"
    },
    "language_info": {
      "name": "python"
    }
  },
  "cells": [
    {
      "cell_type": "code",
      "execution_count": 59,
      "metadata": {
        "id": "LZEiLDDv3f6F",
        "outputId": "921fa5ba-24d1-4f24-ff3f-5c85be0b0a3e",
        "colab": {
          "base_uri": "https://localhost:8080/",
          "height": 450
        }
      },
      "outputs": [
        {
          "output_type": "execute_result",
          "data": {
            "text/plain": [
              "  tipo_infracao                                          descricao  \\\n",
              "0        7455-0  Transitar em velocidade superior á  máxima per...   \n",
              "1        7455-0  Transitar em velocidade superior á  máxima per...   \n",
              "2        5681-0  Transitar na faixa/pista da direita regul circ...   \n",
              "\n",
              "  tipo_infrator               tipo_veiculo cometimento hora_cometimento  \\\n",
              "0      Condutor                  AUTOMOVEL  2022-09-01         00:00:00   \n",
              "1      Condutor  AUTOMOVEL                  2022-09-01         00:01:00   \n",
              "2      Condutor  MOTOCICLET                 2022-09-01         00:01:00   \n",
              "\n",
              "                                 auinf_local_rodovia auinf_local_km  \\\n",
              "0                      RODOVIA DF-079 (EPVP), KM 2,7            NaN   \n",
              "1  BR-020 KM 19,1 SENTIDO CRESCENTE              ...            NaN   \n",
              "2  DF-075 (EPNB) KM 4,4 SENT. N. BAND. / RIACHO F...            NaN   \n",
              "\n",
              "  auinf_local_referencia auinf_local_complemento  auinf_local_latitude  \\\n",
              "0                    NaN                     NaN                   NaN   \n",
              "1                    NaN                     NaN                   NaN   \n",
              "2                    NaN                     NaN                   NaN   \n",
              "\n",
              "   auinf_local_longitude grav_tipo  \n",
              "0                    NaN     Média  \n",
              "1                    NaN     Média  \n",
              "2                    NaN      Leve  "
            ],
            "text/html": [
              "\n",
              "  <div id=\"df-617c6eb9-f91c-40f5-84e7-caab9dd9df49\">\n",
              "    <div class=\"colab-df-container\">\n",
              "      <div>\n",
              "<style scoped>\n",
              "    .dataframe tbody tr th:only-of-type {\n",
              "        vertical-align: middle;\n",
              "    }\n",
              "\n",
              "    .dataframe tbody tr th {\n",
              "        vertical-align: top;\n",
              "    }\n",
              "\n",
              "    .dataframe thead th {\n",
              "        text-align: right;\n",
              "    }\n",
              "</style>\n",
              "<table border=\"1\" class=\"dataframe\">\n",
              "  <thead>\n",
              "    <tr style=\"text-align: right;\">\n",
              "      <th></th>\n",
              "      <th>tipo_infracao</th>\n",
              "      <th>descricao</th>\n",
              "      <th>tipo_infrator</th>\n",
              "      <th>tipo_veiculo</th>\n",
              "      <th>cometimento</th>\n",
              "      <th>hora_cometimento</th>\n",
              "      <th>auinf_local_rodovia</th>\n",
              "      <th>auinf_local_km</th>\n",
              "      <th>auinf_local_referencia</th>\n",
              "      <th>auinf_local_complemento</th>\n",
              "      <th>auinf_local_latitude</th>\n",
              "      <th>auinf_local_longitude</th>\n",
              "      <th>grav_tipo</th>\n",
              "    </tr>\n",
              "  </thead>\n",
              "  <tbody>\n",
              "    <tr>\n",
              "      <th>0</th>\n",
              "      <td>7455-0</td>\n",
              "      <td>Transitar em velocidade superior á  máxima per...</td>\n",
              "      <td>Condutor</td>\n",
              "      <td>AUTOMOVEL</td>\n",
              "      <td>2022-09-01</td>\n",
              "      <td>00:00:00</td>\n",
              "      <td>RODOVIA DF-079 (EPVP), KM 2,7</td>\n",
              "      <td>NaN</td>\n",
              "      <td>NaN</td>\n",
              "      <td>NaN</td>\n",
              "      <td>NaN</td>\n",
              "      <td>NaN</td>\n",
              "      <td>Média</td>\n",
              "    </tr>\n",
              "    <tr>\n",
              "      <th>1</th>\n",
              "      <td>7455-0</td>\n",
              "      <td>Transitar em velocidade superior á  máxima per...</td>\n",
              "      <td>Condutor</td>\n",
              "      <td>AUTOMOVEL</td>\n",
              "      <td>2022-09-01</td>\n",
              "      <td>00:01:00</td>\n",
              "      <td>BR-020 KM 19,1 SENTIDO CRESCENTE              ...</td>\n",
              "      <td>NaN</td>\n",
              "      <td>NaN</td>\n",
              "      <td>NaN</td>\n",
              "      <td>NaN</td>\n",
              "      <td>NaN</td>\n",
              "      <td>Média</td>\n",
              "    </tr>\n",
              "    <tr>\n",
              "      <th>2</th>\n",
              "      <td>5681-0</td>\n",
              "      <td>Transitar na faixa/pista da direita regul circ...</td>\n",
              "      <td>Condutor</td>\n",
              "      <td>MOTOCICLET</td>\n",
              "      <td>2022-09-01</td>\n",
              "      <td>00:01:00</td>\n",
              "      <td>DF-075 (EPNB) KM 4,4 SENT. N. BAND. / RIACHO F...</td>\n",
              "      <td>NaN</td>\n",
              "      <td>NaN</td>\n",
              "      <td>NaN</td>\n",
              "      <td>NaN</td>\n",
              "      <td>NaN</td>\n",
              "      <td>Leve</td>\n",
              "    </tr>\n",
              "  </tbody>\n",
              "</table>\n",
              "</div>\n",
              "      <button class=\"colab-df-convert\" onclick=\"convertToInteractive('df-617c6eb9-f91c-40f5-84e7-caab9dd9df49')\"\n",
              "              title=\"Convert this dataframe to an interactive table.\"\n",
              "              style=\"display:none;\">\n",
              "        \n",
              "  <svg xmlns=\"http://www.w3.org/2000/svg\" height=\"24px\"viewBox=\"0 0 24 24\"\n",
              "       width=\"24px\">\n",
              "    <path d=\"M0 0h24v24H0V0z\" fill=\"none\"/>\n",
              "    <path d=\"M18.56 5.44l.94 2.06.94-2.06 2.06-.94-2.06-.94-.94-2.06-.94 2.06-2.06.94zm-11 1L8.5 8.5l.94-2.06 2.06-.94-2.06-.94L8.5 2.5l-.94 2.06-2.06.94zm10 10l.94 2.06.94-2.06 2.06-.94-2.06-.94-.94-2.06-.94 2.06-2.06.94z\"/><path d=\"M17.41 7.96l-1.37-1.37c-.4-.4-.92-.59-1.43-.59-.52 0-1.04.2-1.43.59L10.3 9.45l-7.72 7.72c-.78.78-.78 2.05 0 2.83L4 21.41c.39.39.9.59 1.41.59.51 0 1.02-.2 1.41-.59l7.78-7.78 2.81-2.81c.8-.78.8-2.07 0-2.86zM5.41 20L4 18.59l7.72-7.72 1.47 1.35L5.41 20z\"/>\n",
              "  </svg>\n",
              "      </button>\n",
              "      \n",
              "  <style>\n",
              "    .colab-df-container {\n",
              "      display:flex;\n",
              "      flex-wrap:wrap;\n",
              "      gap: 12px;\n",
              "    }\n",
              "\n",
              "    .colab-df-convert {\n",
              "      background-color: #E8F0FE;\n",
              "      border: none;\n",
              "      border-radius: 50%;\n",
              "      cursor: pointer;\n",
              "      display: none;\n",
              "      fill: #1967D2;\n",
              "      height: 32px;\n",
              "      padding: 0 0 0 0;\n",
              "      width: 32px;\n",
              "    }\n",
              "\n",
              "    .colab-df-convert:hover {\n",
              "      background-color: #E2EBFA;\n",
              "      box-shadow: 0px 1px 2px rgba(60, 64, 67, 0.3), 0px 1px 3px 1px rgba(60, 64, 67, 0.15);\n",
              "      fill: #174EA6;\n",
              "    }\n",
              "\n",
              "    [theme=dark] .colab-df-convert {\n",
              "      background-color: #3B4455;\n",
              "      fill: #D2E3FC;\n",
              "    }\n",
              "\n",
              "    [theme=dark] .colab-df-convert:hover {\n",
              "      background-color: #434B5C;\n",
              "      box-shadow: 0px 1px 3px 1px rgba(0, 0, 0, 0.15);\n",
              "      filter: drop-shadow(0px 1px 2px rgba(0, 0, 0, 0.3));\n",
              "      fill: #FFFFFF;\n",
              "    }\n",
              "  </style>\n",
              "\n",
              "      <script>\n",
              "        const buttonEl =\n",
              "          document.querySelector('#df-617c6eb9-f91c-40f5-84e7-caab9dd9df49 button.colab-df-convert');\n",
              "        buttonEl.style.display =\n",
              "          google.colab.kernel.accessAllowed ? 'block' : 'none';\n",
              "\n",
              "        async function convertToInteractive(key) {\n",
              "          const element = document.querySelector('#df-617c6eb9-f91c-40f5-84e7-caab9dd9df49');\n",
              "          const dataTable =\n",
              "            await google.colab.kernel.invokeFunction('convertToInteractive',\n",
              "                                                     [key], {});\n",
              "          if (!dataTable) return;\n",
              "\n",
              "          const docLinkHtml = 'Like what you see? Visit the ' +\n",
              "            '<a target=\"_blank\" href=https://colab.research.google.com/notebooks/data_table.ipynb>data table notebook</a>'\n",
              "            + ' to learn more about interactive tables.';\n",
              "          element.innerHTML = '';\n",
              "          dataTable['output_type'] = 'display_data';\n",
              "          await google.colab.output.renderOutput(dataTable, element);\n",
              "          const docLink = document.createElement('div');\n",
              "          docLink.innerHTML = docLinkHtml;\n",
              "          element.appendChild(docLink);\n",
              "        }\n",
              "      </script>\n",
              "    </div>\n",
              "  </div>\n",
              "  "
            ]
          },
          "metadata": {},
          "execution_count": 59
        }
      ],
      "source": [
        "import pandas as pd\n",
        "\n",
        "dados = pd.read_excel('/content/infra.xlsx')\n",
        "dados.head(3)"
      ]
    },
    {
      "cell_type": "code",
      "source": [
        "dados.tail(3)"
      ],
      "metadata": {
        "id": "AZ8tClR2eCzg"
      },
      "execution_count": null,
      "outputs": []
    },
    {
      "cell_type": "code",
      "source": [
        "dados['auinf_local_km'].notnull()"
      ],
      "metadata": {
        "id": "SM_EKybuez0p"
      },
      "execution_count": null,
      "outputs": []
    },
    {
      "cell_type": "code",
      "source": [
        "dados['auinf_local_km']= 0\n",
        "dados.head(3)"
      ],
      "metadata": {
        "id": "1zL8-LBffo9o"
      },
      "execution_count": null,
      "outputs": []
    },
    {
      "cell_type": "code",
      "source": [
        "dados['grav_tipo'].value_counts()"
      ],
      "metadata": {
        "id": "l90l-yOJgckB"
      },
      "execution_count": null,
      "outputs": []
    },
    {
      "cell_type": "code",
      "source": [
        "dados['descricao'].value_counts()"
      ],
      "metadata": {
        "id": "h-kHDSgEpuvi"
      },
      "execution_count": null,
      "outputs": []
    },
    {
      "cell_type": "code",
      "source": [
        "dados['tipo_veiculo'].value_counts()"
      ],
      "metadata": {
        "id": "udXbxzI6w8JE"
      },
      "execution_count": null,
      "outputs": []
    },
    {
      "cell_type": "code",
      "source": [
        "dados['cometimento'].value_counts()"
      ],
      "metadata": {
        "id": "qQ7t67HjxqFf"
      },
      "execution_count": null,
      "outputs": []
    },
    {
      "cell_type": "code",
      "source": [
        "dados['auinf_local_rodovia'].value_counts()"
      ],
      "metadata": {
        "id": "b8e7L_FNx9Q1"
      },
      "execution_count": null,
      "outputs": []
    },
    {
      "cell_type": "code",
      "source": [
        "! pip install https://Github.com/pandas-profiling/pandas-profiling/archive/master.zip"
      ],
      "metadata": {
        "id": "H9qPe0fAAs3F"
      },
      "execution_count": null,
      "outputs": []
    }
  ]
}